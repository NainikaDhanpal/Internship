{
 "cells": [
  {
   "cell_type": "code",
   "execution_count": 1,
   "id": "9c56e443",
   "metadata": {},
   "outputs": [],
   "source": [
    "import pandas as pd\n",
    "import matplotlib.pyplot as plt\n",
    "import seaborn as sns"
   ]
  },
  {
   "cell_type": "code",
   "execution_count": 2,
   "id": "2b4a065e",
   "metadata": {},
   "outputs": [],
   "source": [
    "df = pd.read_csv(\"C:/Users/naini/Downloads/movie_data/movies.csv\")"
   ]
  },
  {
   "cell_type": "raw",
   "id": "e668035c",
   "metadata": {},
   "source": [
    "What is the shape of \"movies.csv\"?"
   ]
  },
  {
   "cell_type": "code",
   "execution_count": 3,
   "id": "238e2354",
   "metadata": {},
   "outputs": [
    {
     "name": "stdout",
     "output_type": "stream",
     "text": [
      "<class 'pandas.core.frame.DataFrame'>\n",
      "RangeIndex: 9742 entries, 0 to 9741\n",
      "Data columns (total 3 columns):\n",
      " #   Column   Non-Null Count  Dtype \n",
      "---  ------   --------------  ----- \n",
      " 0   movieId  9742 non-null   int64 \n",
      " 1   title    9742 non-null   object\n",
      " 2   genres   9742 non-null   object\n",
      "dtypes: int64(1), object(2)\n",
      "memory usage: 228.5+ KB\n"
     ]
    }
   ],
   "source": [
    "df.info()"
   ]
  },
  {
   "cell_type": "code",
   "execution_count": 4,
   "id": "f4b4adc9",
   "metadata": {},
   "outputs": [],
   "source": [
    "df1 = pd.read_csv(\"C:/Users/naini/Downloads/movie_data/ratings.csv\")"
   ]
  },
  {
   "cell_type": "raw",
   "id": "f2208a15",
   "metadata": {},
   "source": [
    "What is the shape of \"ratings.csv\"?"
   ]
  },
  {
   "cell_type": "code",
   "execution_count": 5,
   "id": "8e2f766d",
   "metadata": {},
   "outputs": [
    {
     "name": "stdout",
     "output_type": "stream",
     "text": [
      "<class 'pandas.core.frame.DataFrame'>\n",
      "RangeIndex: 100836 entries, 0 to 100835\n",
      "Data columns (total 4 columns):\n",
      " #   Column     Non-Null Count   Dtype  \n",
      "---  ------     --------------   -----  \n",
      " 0   userId     100836 non-null  int64  \n",
      " 1   movieId    100836 non-null  int64  \n",
      " 2   rating     100836 non-null  float64\n",
      " 3   timestamp  100836 non-null  int64  \n",
      "dtypes: float64(1), int64(3)\n",
      "memory usage: 3.1 MB\n"
     ]
    }
   ],
   "source": [
    "df1.info()"
   ]
  },
  {
   "cell_type": "raw",
   "id": "05d1529c",
   "metadata": {},
   "source": [
    "How many unique \"userId\" are available in \"ratings.csv\"?"
   ]
  },
  {
   "cell_type": "code",
   "execution_count": 6,
   "id": "6273ae7d",
   "metadata": {},
   "outputs": [
    {
     "data": {
      "text/plain": [
       "610"
      ]
     },
     "execution_count": 6,
     "metadata": {},
     "output_type": "execute_result"
    }
   ],
   "source": [
    "df1['userId'].nunique()"
   ]
  },
  {
   "cell_type": "raw",
   "id": "58e84517",
   "metadata": {},
   "source": [
    "Which movie has recieved maximum number of user ratings?"
   ]
  },
  {
   "cell_type": "code",
   "execution_count": 7,
   "id": "7a5f081b",
   "metadata": {},
   "outputs": [
    {
     "name": "stdout",
     "output_type": "stream",
     "text": [
      "     movieId                title\n",
      "314      356  Forrest Gump (1994)\n"
     ]
    }
   ],
   "source": [
    "ratings = df1.groupby('movieId')['userId'].count()\n",
    "max_ratings = ratings.idxmax()\n",
    "movie_details = df[df['movieId'] == max_ratings]\n",
    "print(movie_details[['movieId', 'title']])"
   ]
  },
  {
   "cell_type": "code",
   "execution_count": 8,
   "id": "10ea44ad",
   "metadata": {},
   "outputs": [],
   "source": [
    "df2 =  pd.read_csv(\"C:/Users/naini/Downloads/movie_data/tags.csv\")"
   ]
  },
  {
   "cell_type": "code",
   "execution_count": 9,
   "id": "c90b9f78",
   "metadata": {},
   "outputs": [
    {
     "name": "stdout",
     "output_type": "stream",
     "text": [
      "<class 'pandas.core.frame.DataFrame'>\n",
      "RangeIndex: 3683 entries, 0 to 3682\n",
      "Data columns (total 4 columns):\n",
      " #   Column     Non-Null Count  Dtype \n",
      "---  ------     --------------  ----- \n",
      " 0   userId     3683 non-null   int64 \n",
      " 1   movieId    3683 non-null   int64 \n",
      " 2   tag        3683 non-null   object\n",
      " 3   timestamp  3683 non-null   int64 \n",
      "dtypes: int64(3), object(1)\n",
      "memory usage: 115.2+ KB\n"
     ]
    }
   ],
   "source": [
    "df2.info()"
   ]
  },
  {
   "cell_type": "raw",
   "id": "9aeaa01f",
   "metadata": {},
   "source": [
    "Select all the correct tags submitted by users to \"Matrix, The (1999)\" movie?"
   ]
  },
  {
   "cell_type": "code",
   "execution_count": 10,
   "id": "cbf190b1",
   "metadata": {},
   "outputs": [
    {
     "name": "stdout",
     "output_type": "stream",
     "text": [
      "['martial arts' 'sci-fi' 'alternate universe' 'philosophy'\n",
      " 'post apocalyptic']\n"
     ]
    }
   ],
   "source": [
    "matrix_movie_id = df[df['title'] == 'Matrix, The (1999)']['movieId'].values[0]\n",
    "matrix_tags = df2[df2['movieId'] == matrix_movie_id]['tag']\n",
    "unique_matrix_tags = matrix_tags.unique()\n",
    "print(unique_matrix_tags)"
   ]
  },
  {
   "cell_type": "code",
   "execution_count": 11,
   "id": "a15531bc",
   "metadata": {},
   "outputs": [
    {
     "name": "stdout",
     "output_type": "stream",
     "text": [
      "['martial arts' 'sci-fi' 'alternate universe' 'philosophy'\n",
      " 'post apocalyptic']\n"
     ]
    }
   ],
   "source": [
    "merged_df = pd.merge(df2, df, on='movieId', how='inner')\n",
    "matrix_tags = merged_df[merged_df['title'] == 'Matrix, The (1999)']['tag']\n",
    "unique_matrix_tags = matrix_tags.unique()\n",
    "print(unique_matrix_tags)"
   ]
  },
  {
   "cell_type": "raw",
   "id": "5a0a9aef",
   "metadata": {},
   "source": [
    "What is the average user rating for movie named \"Terminator 2: Judgment Day (1991)\"?"
   ]
  },
  {
   "cell_type": "code",
   "execution_count": 12,
   "id": "c6ff00ea",
   "metadata": {},
   "outputs": [
    {
     "name": "stdout",
     "output_type": "stream",
     "text": [
      "3.97\n"
     ]
    }
   ],
   "source": [
    "terminator_movie_id = df[df['title'] == 'Terminator 2: Judgment Day (1991)']['movieId'].values[0]\n",
    "terminator_ratings = df1[df1['movieId'] == terminator_movie_id]['rating']\n",
    "average_rating = terminator_ratings.mean()\n",
    "print(f'{average_rating:.2f}')"
   ]
  },
  {
   "cell_type": "raw",
   "id": "c67f5bf5",
   "metadata": {},
   "source": [
    "How does the data distribution of user ratings for \"Fight Club (1999)\" movie looks like?"
   ]
  },
  {
   "cell_type": "code",
   "execution_count": 13,
   "id": "a6c216e5",
   "metadata": {},
   "outputs": [
    {
     "data": {
      "image/png": "[encoded data removed]",
      "text/plain": [
       "<Figure size 640x480 with 1 Axes>"
      ]
     },
     "metadata": {},
     "output_type": "display_data"
    }
   ],
   "source": [
    "fight_club_movie_id = df[df['title'] == 'Fight Club (1999)']['movieId'].values[0]\n",
    "fight_club_ratings = df1[df1['movieId'] == fight_club_movie_id]['rating']\n",
    "sns.histplot(fight_club_ratings, kde=True, color='skyblue')\n",
    "plt.title('Distribution of User Ratings for \"Fight Club (1999)\"')\n",
    "plt.xlabel('Rating')\n",
    "plt.ylabel('Frequency')\n",
    "plt.show()"
   ]
  },
  {
   "cell_type": "raw",
   "id": "446c1ce9",
   "metadata": {},
   "source": [
    "Mandatory Operations:\n",
    "1. Group the user ratings based on movieId and apply aggregation operations like count and mean on ratings. \n",
    "2. Apply inner join on dataframe created from movies.csv and the grouped df from step 1.\n",
    "3. Filter only those movies which have more than 50 user ratings (i.e. > 50)."
   ]
  },
  {
   "cell_type": "code",
   "execution_count": 14,
   "id": "04d85346",
   "metadata": {},
   "outputs": [
    {
     "name": "stdout",
     "output_type": "stream",
     "text": [
      "      movieId  count      mean                             title  \\\n",
      "0           1    215  3.920930                  Toy Story (1995)   \n",
      "1           2    110  3.431818                    Jumanji (1995)   \n",
      "2           3     52  3.259615           Grumpier Old Men (1995)   \n",
      "5           6    102  3.946078                       Heat (1995)   \n",
      "6           7     54  3.185185                    Sabrina (1995)   \n",
      "...       ...    ...       ...                               ...   \n",
      "8287   106782     54  3.916667   Wolf of Wall Street, The (2013)   \n",
      "8354   109374     52  3.778846  Grand Budapest Hotel, The (2014)   \n",
      "8358   109487     73  3.993151               Interstellar (2014)   \n",
      "8457   112852     59  4.050847    Guardians of the Galaxy (2014)   \n",
      "8673   122904     54  3.833333                   Deadpool (2016)   \n",
      "\n",
      "                                           genres  \n",
      "0     Adventure|Animation|Children|Comedy|Fantasy  \n",
      "1                      Adventure|Children|Fantasy  \n",
      "2                                  Comedy|Romance  \n",
      "5                           Action|Crime|Thriller  \n",
      "6                                  Comedy|Romance  \n",
      "...                                           ...  \n",
      "8287                           Comedy|Crime|Drama  \n",
      "8354                                 Comedy|Drama  \n",
      "8358                                  Sci-Fi|IMAX  \n",
      "8457                      Action|Adventure|Sci-Fi  \n",
      "8673               Action|Adventure|Comedy|Sci-Fi  \n",
      "\n",
      "[436 rows x 5 columns]\n"
     ]
    }
   ],
   "source": [
    "grouped_ratings = df1.groupby('movieId')['rating'].agg(['count', 'mean']).reset_index()\n",
    "merged_df = pd.merge(grouped_ratings, df, on='movieId', how='inner')\n",
    "movies_50 = merged_df[merged_df['count'] > 50]\n",
    "print(movies_50)"
   ]
  },
  {
   "cell_type": "raw",
   "id": "47f11d74",
   "metadata": {},
   "source": [
    "Which movie is the most popular based on  average user ratings?"
   ]
  },
  {
   "cell_type": "code",
   "execution_count": 15,
   "id": "37e0ef2b",
   "metadata": {},
   "outputs": [
    {
     "name": "stdout",
     "output_type": "stream",
     "text": [
      "movieId                                 318\n",
      "title      Shawshank Redemption, The (1994)\n",
      "mean                               4.429022\n",
      "Name: 277, dtype: object\n"
     ]
    }
   ],
   "source": [
    "most_popular_movie = movies_50.loc[movies_50['mean'].idxmax()]\n",
    "print(most_popular_movie[['movieId', 'title', 'mean']])"
   ]
  },
  {
   "cell_type": "raw",
   "id": "4aa089d4",
   "metadata": {},
   "source": [
    "Select all the correct options which comes under top 5 popular movies based on number of user ratings."
   ]
  },
  {
   "cell_type": "code",
   "execution_count": 16,
   "id": "0c284e51",
   "metadata": {},
   "outputs": [
    {
     "data": {
      "text/html": [
       "<div>\n",
       "<style scoped>\n",
       "    .dataframe tbody tr th:only-of-type {\n",
       "        vertical-align: middle;\n",
       "    }\n",
       "\n",
       "    .dataframe tbody tr th {\n",
       "        vertical-align: top;\n",
       "    }\n",
       "\n",
       "    .dataframe thead th {\n",
       "        text-align: right;\n",
       "    }\n",
       "</style>\n",
       "<table border=\"1\" class=\"dataframe\">\n",
       "  <thead>\n",
       "    <tr style=\"text-align: right;\">\n",
       "      <th></th>\n",
       "      <th>movieId</th>\n",
       "      <th>count</th>\n",
       "      <th>mean</th>\n",
       "      <th>title</th>\n",
       "      <th>genres</th>\n",
       "    </tr>\n",
       "  </thead>\n",
       "  <tbody>\n",
       "    <tr>\n",
       "      <th>314</th>\n",
       "      <td>356</td>\n",
       "      <td>329</td>\n",
       "      <td>4.164134</td>\n",
       "      <td>Forrest Gump (1994)</td>\n",
       "      <td>Comedy|Drama|Romance|War</td>\n",
       "    </tr>\n",
       "    <tr>\n",
       "      <th>277</th>\n",
       "      <td>318</td>\n",
       "      <td>317</td>\n",
       "      <td>4.429022</td>\n",
       "      <td>Shawshank Redemption, The (1994)</td>\n",
       "      <td>Crime|Drama</td>\n",
       "    </tr>\n",
       "    <tr>\n",
       "      <th>257</th>\n",
       "      <td>296</td>\n",
       "      <td>307</td>\n",
       "      <td>4.197068</td>\n",
       "      <td>Pulp Fiction (1994)</td>\n",
       "      <td>Comedy|Crime|Drama|Thriller</td>\n",
       "    </tr>\n",
       "    <tr>\n",
       "      <th>510</th>\n",
       "      <td>593</td>\n",
       "      <td>279</td>\n",
       "      <td>4.161290</td>\n",
       "      <td>Silence of the Lambs, The (1991)</td>\n",
       "      <td>Crime|Horror|Thriller</td>\n",
       "    </tr>\n",
       "    <tr>\n",
       "      <th>1938</th>\n",
       "      <td>2571</td>\n",
       "      <td>278</td>\n",
       "      <td>4.192446</td>\n",
       "      <td>Matrix, The (1999)</td>\n",
       "      <td>Action|Sci-Fi|Thriller</td>\n",
       "    </tr>\n",
       "  </tbody>\n",
       "</table>\n",
       "</div>"
      ],
      "text/plain": [
       "      movieId  count      mean                             title  \\\n",
       "314       356    329  4.164134               Forrest Gump (1994)   \n",
       "277       318    317  4.429022  Shawshank Redemption, The (1994)   \n",
       "257       296    307  4.197068               Pulp Fiction (1994)   \n",
       "510       593    279  4.161290  Silence of the Lambs, The (1991)   \n",
       "1938     2571    278  4.192446                Matrix, The (1999)   \n",
       "\n",
       "                           genres  \n",
       "314      Comedy|Drama|Romance|War  \n",
       "277                   Crime|Drama  \n",
       "257   Comedy|Crime|Drama|Thriller  \n",
       "510         Crime|Horror|Thriller  \n",
       "1938       Action|Sci-Fi|Thriller  "
      ]
     },
     "execution_count": 16,
     "metadata": {},
     "output_type": "execute_result"
    }
   ],
   "source": [
    "sorted_movies = merged_df.sort_values(by = 'count', ascending = False)\n",
    "top_5_popular_movies = sorted_movies.head(5)\n",
    "top_5_popular_movies"
   ]
  },
  {
   "cell_type": "raw",
   "id": "95dd2bef",
   "metadata": {},
   "source": [
    "Which Sci-Fi movie is \"third most popular\" based on the number of user ratings?"
   ]
  },
  {
   "cell_type": "code",
   "execution_count": 17,
   "id": "eec5d311",
   "metadata": {},
   "outputs": [
    {
     "name": "stdout",
     "output_type": "stream",
     "text": [
      "movieId                     480\n",
      "title      Jurassic Park (1993)\n",
      "count                       238\n",
      "Name: 418, dtype: object\n"
     ]
    }
   ],
   "source": [
    "sci_fi_movies = merged_df[merged_df['genres'].apply(lambda x: 'Sci-Fi' in x)]\n",
    "sorted_sci_fi_movies = sci_fi_movies.sort_values(by='count', ascending=False)\n",
    "third_most_popular_sci_fi_movie = sorted_sci_fi_movies.iloc[2]\n",
    "print(third_most_popular_sci_fi_movie[['movieId', 'title', 'count']])"
   ]
  },
  {
   "cell_type": "raw",
   "id": "bbde161a",
   "metadata": {},
   "source": [
    "Using \"links.csv\", scrape the IMDB reviews of each movie with more than 50 user ratings. \"README.md\" file contains the \n",
    "required details."
   ]
  },
  {
   "cell_type": "code",
   "execution_count": 18,
   "id": "2fd4cd2f",
   "metadata": {},
   "outputs": [],
   "source": [
    "df3 = pd.read_csv(\"C:/Users/naini/Downloads/movie_data/links.csv\")"
   ]
  },
  {
   "cell_type": "code",
   "execution_count": 19,
   "id": "49889b6e",
   "metadata": {},
   "outputs": [
    {
     "data": {
      "text/html": [
       "<div>\n",
       "<style scoped>\n",
       "    .dataframe tbody tr th:only-of-type {\n",
       "        vertical-align: middle;\n",
       "    }\n",
       "\n",
       "    .dataframe tbody tr th {\n",
       "        vertical-align: top;\n",
       "    }\n",
       "\n",
       "    .dataframe thead th {\n",
       "        text-align: right;\n",
       "    }\n",
       "</style>\n",
       "<table border=\"1\" class=\"dataframe\">\n",
       "  <thead>\n",
       "    <tr style=\"text-align: right;\">\n",
       "      <th></th>\n",
       "      <th>movieId</th>\n",
       "      <th>imdbId</th>\n",
       "      <th>tmdbId</th>\n",
       "    </tr>\n",
       "  </thead>\n",
       "  <tbody>\n",
       "    <tr>\n",
       "      <th>0</th>\n",
       "      <td>1</td>\n",
       "      <td>114709</td>\n",
       "      <td>862.0</td>\n",
       "    </tr>\n",
       "    <tr>\n",
       "      <th>1</th>\n",
       "      <td>2</td>\n",
       "      <td>113497</td>\n",
       "      <td>8844.0</td>\n",
       "    </tr>\n",
       "    <tr>\n",
       "      <th>2</th>\n",
       "      <td>3</td>\n",
       "      <td>113228</td>\n",
       "      <td>15602.0</td>\n",
       "    </tr>\n",
       "    <tr>\n",
       "      <th>3</th>\n",
       "      <td>4</td>\n",
       "      <td>114885</td>\n",
       "      <td>31357.0</td>\n",
       "    </tr>\n",
       "    <tr>\n",
       "      <th>4</th>\n",
       "      <td>5</td>\n",
       "      <td>113041</td>\n",
       "      <td>11862.0</td>\n",
       "    </tr>\n",
       "    <tr>\n",
       "      <th>...</th>\n",
       "      <td>...</td>\n",
       "      <td>...</td>\n",
       "      <td>...</td>\n",
       "    </tr>\n",
       "    <tr>\n",
       "      <th>9737</th>\n",
       "      <td>193581</td>\n",
       "      <td>5476944</td>\n",
       "      <td>432131.0</td>\n",
       "    </tr>\n",
       "    <tr>\n",
       "      <th>9738</th>\n",
       "      <td>193583</td>\n",
       "      <td>5914996</td>\n",
       "      <td>445030.0</td>\n",
       "    </tr>\n",
       "    <tr>\n",
       "      <th>9739</th>\n",
       "      <td>193585</td>\n",
       "      <td>6397426</td>\n",
       "      <td>479308.0</td>\n",
       "    </tr>\n",
       "    <tr>\n",
       "      <th>9740</th>\n",
       "      <td>193587</td>\n",
       "      <td>8391976</td>\n",
       "      <td>483455.0</td>\n",
       "    </tr>\n",
       "    <tr>\n",
       "      <th>9741</th>\n",
       "      <td>193609</td>\n",
       "      <td>101726</td>\n",
       "      <td>37891.0</td>\n",
       "    </tr>\n",
       "  </tbody>\n",
       "</table>\n",
       "<p>9742 rows × 3 columns</p>\n",
       "</div>"
      ],
      "text/plain": [
       "      movieId   imdbId    tmdbId\n",
       "0           1   114709     862.0\n",
       "1           2   113497    8844.0\n",
       "2           3   113228   15602.0\n",
       "3           4   114885   31357.0\n",
       "4           5   113041   11862.0\n",
       "...       ...      ...       ...\n",
       "9737   193581  5476944  432131.0\n",
       "9738   193583  5914996  445030.0\n",
       "9739   193585  6397426  479308.0\n",
       "9740   193587  8391976  483455.0\n",
       "9741   193609   101726   37891.0\n",
       "\n",
       "[9742 rows x 3 columns]"
      ]
     },
     "execution_count": 19,
     "metadata": {},
     "output_type": "execute_result"
    }
   ],
   "source": [
    "df3"
   ]
  },
  {
   "cell_type": "code",
   "execution_count": 21,
   "id": "794121a2",
   "metadata": {},
   "outputs": [],
   "source": [
    "merged_data = pd.merge(movies_50, df3, on = 'movieId', how = 'inner')"
   ]
  },
  {
   "cell_type": "code",
   "execution_count": 22,
   "id": "a08c2cd6",
   "metadata": {},
   "outputs": [
    {
     "data": {
      "text/html": [
       "<div>\n",
       "<style scoped>\n",
       "    .dataframe tbody tr th:only-of-type {\n",
       "        vertical-align: middle;\n",
       "    }\n",
       "\n",
       "    .dataframe tbody tr th {\n",
       "        vertical-align: top;\n",
       "    }\n",
       "\n",
       "    .dataframe thead th {\n",
       "        text-align: right;\n",
       "    }\n",
       "</style>\n",
       "<table border=\"1\" class=\"dataframe\">\n",
       "  <thead>\n",
       "    <tr style=\"text-align: right;\">\n",
       "      <th></th>\n",
       "      <th>movieId</th>\n",
       "      <th>count</th>\n",
       "      <th>mean</th>\n",
       "      <th>title</th>\n",
       "      <th>genres</th>\n",
       "      <th>imdbId</th>\n",
       "      <th>tmdbId</th>\n",
       "    </tr>\n",
       "  </thead>\n",
       "  <tbody>\n",
       "    <tr>\n",
       "      <th>0</th>\n",
       "      <td>1</td>\n",
       "      <td>215</td>\n",
       "      <td>3.920930</td>\n",
       "      <td>Toy Story (1995)</td>\n",
       "      <td>Adventure|Animation|Children|Comedy|Fantasy</td>\n",
       "      <td>114709</td>\n",
       "      <td>862.0</td>\n",
       "    </tr>\n",
       "    <tr>\n",
       "      <th>1</th>\n",
       "      <td>2</td>\n",
       "      <td>110</td>\n",
       "      <td>3.431818</td>\n",
       "      <td>Jumanji (1995)</td>\n",
       "      <td>Adventure|Children|Fantasy</td>\n",
       "      <td>113497</td>\n",
       "      <td>8844.0</td>\n",
       "    </tr>\n",
       "    <tr>\n",
       "      <th>2</th>\n",
       "      <td>3</td>\n",
       "      <td>52</td>\n",
       "      <td>3.259615</td>\n",
       "      <td>Grumpier Old Men (1995)</td>\n",
       "      <td>Comedy|Romance</td>\n",
       "      <td>113228</td>\n",
       "      <td>15602.0</td>\n",
       "    </tr>\n",
       "    <tr>\n",
       "      <th>3</th>\n",
       "      <td>6</td>\n",
       "      <td>102</td>\n",
       "      <td>3.946078</td>\n",
       "      <td>Heat (1995)</td>\n",
       "      <td>Action|Crime|Thriller</td>\n",
       "      <td>113277</td>\n",
       "      <td>949.0</td>\n",
       "    </tr>\n",
       "    <tr>\n",
       "      <th>4</th>\n",
       "      <td>7</td>\n",
       "      <td>54</td>\n",
       "      <td>3.185185</td>\n",
       "      <td>Sabrina (1995)</td>\n",
       "      <td>Comedy|Romance</td>\n",
       "      <td>114319</td>\n",
       "      <td>11860.0</td>\n",
       "    </tr>\n",
       "    <tr>\n",
       "      <th>...</th>\n",
       "      <td>...</td>\n",
       "      <td>...</td>\n",
       "      <td>...</td>\n",
       "      <td>...</td>\n",
       "      <td>...</td>\n",
       "      <td>...</td>\n",
       "      <td>...</td>\n",
       "    </tr>\n",
       "    <tr>\n",
       "      <th>431</th>\n",
       "      <td>106782</td>\n",
       "      <td>54</td>\n",
       "      <td>3.916667</td>\n",
       "      <td>Wolf of Wall Street, The (2013)</td>\n",
       "      <td>Comedy|Crime|Drama</td>\n",
       "      <td>993846</td>\n",
       "      <td>106646.0</td>\n",
       "    </tr>\n",
       "    <tr>\n",
       "      <th>432</th>\n",
       "      <td>109374</td>\n",
       "      <td>52</td>\n",
       "      <td>3.778846</td>\n",
       "      <td>Grand Budapest Hotel, The (2014)</td>\n",
       "      <td>Comedy|Drama</td>\n",
       "      <td>2278388</td>\n",
       "      <td>120467.0</td>\n",
       "    </tr>\n",
       "    <tr>\n",
       "      <th>433</th>\n",
       "      <td>109487</td>\n",
       "      <td>73</td>\n",
       "      <td>3.993151</td>\n",
       "      <td>Interstellar (2014)</td>\n",
       "      <td>Sci-Fi|IMAX</td>\n",
       "      <td>816692</td>\n",
       "      <td>157336.0</td>\n",
       "    </tr>\n",
       "    <tr>\n",
       "      <th>434</th>\n",
       "      <td>112852</td>\n",
       "      <td>59</td>\n",
       "      <td>4.050847</td>\n",
       "      <td>Guardians of the Galaxy (2014)</td>\n",
       "      <td>Action|Adventure|Sci-Fi</td>\n",
       "      <td>2015381</td>\n",
       "      <td>118340.0</td>\n",
       "    </tr>\n",
       "    <tr>\n",
       "      <th>435</th>\n",
       "      <td>122904</td>\n",
       "      <td>54</td>\n",
       "      <td>3.833333</td>\n",
       "      <td>Deadpool (2016)</td>\n",
       "      <td>Action|Adventure|Comedy|Sci-Fi</td>\n",
       "      <td>1431045</td>\n",
       "      <td>293660.0</td>\n",
       "    </tr>\n",
       "  </tbody>\n",
       "</table>\n",
       "<p>436 rows × 7 columns</p>\n",
       "</div>"
      ],
      "text/plain": [
       "     movieId  count      mean                             title  \\\n",
       "0          1    215  3.920930                  Toy Story (1995)   \n",
       "1          2    110  3.431818                    Jumanji (1995)   \n",
       "2          3     52  3.259615           Grumpier Old Men (1995)   \n",
       "3          6    102  3.946078                       Heat (1995)   \n",
       "4          7     54  3.185185                    Sabrina (1995)   \n",
       "..       ...    ...       ...                               ...   \n",
       "431   106782     54  3.916667   Wolf of Wall Street, The (2013)   \n",
       "432   109374     52  3.778846  Grand Budapest Hotel, The (2014)   \n",
       "433   109487     73  3.993151               Interstellar (2014)   \n",
       "434   112852     59  4.050847    Guardians of the Galaxy (2014)   \n",
       "435   122904     54  3.833333                   Deadpool (2016)   \n",
       "\n",
       "                                          genres   imdbId    tmdbId  \n",
       "0    Adventure|Animation|Children|Comedy|Fantasy   114709     862.0  \n",
       "1                     Adventure|Children|Fantasy   113497    8844.0  \n",
       "2                                 Comedy|Romance   113228   15602.0  \n",
       "3                          Action|Crime|Thriller   113277     949.0  \n",
       "4                                 Comedy|Romance   114319   11860.0  \n",
       "..                                           ...      ...       ...  \n",
       "431                           Comedy|Crime|Drama   993846  106646.0  \n",
       "432                                 Comedy|Drama  2278388  120467.0  \n",
       "433                                  Sci-Fi|IMAX   816692  157336.0  \n",
       "434                      Action|Adventure|Sci-Fi  2015381  118340.0  \n",
       "435               Action|Adventure|Comedy|Sci-Fi  1431045  293660.0  \n",
       "\n",
       "[436 rows x 7 columns]"
      ]
     },
     "execution_count": 22,
     "metadata": {},
     "output_type": "execute_result"
    }
   ],
   "source": [
    "merged_data"
   ]
  },
  {
   "cell_type": "code",
   "execution_count": 48,
   "id": "1957e713",
   "metadata": {},
   "outputs": [],
   "source": [
    "import requests\n",
    "import numpy as np\n",
    "from bs4 import BeautifulSoup\n",
    "\n",
    "def scrapper(imdbId):\n",
    "    id = str(int(imdbId))\n",
    "    n_zeroes = 7 - len(id)\n",
    "    new_id = \"0\"*n_zeroes + id\n",
    "    URL = f\"https://www.imdb.com/title/tt{new_id}/\"\n",
    "    request_header = {'Content-Type': 'text/html; charset=UTF-8', \n",
    "                      'User-Agent': 'Mozilla/5.0 (Windows NT 10.0; Win64; x64; rv:109.0) Gecko/20100101 Firefox/119.0', \n",
    "                      'Accept-Encoding': 'gzip, deflate, br'}\n",
    "    response = requests.get(URL, headers=request_header)\n",
    "    soup = BeautifulSoup(response.text)\n",
    "    imdb_rating = soup.find('section', attrs={'class' : 'ipc-page-section ipc-page-section--base ipc-page-section--tp-xl sc-b436540a-0 yKvDM'})\n",
    "    return imdb_rating.text if imdb_rating else np.nan"
   ]
  },
  {
   "cell_type": "code",
   "execution_count": 49,
   "id": "d9edcbc6",
   "metadata": {},
   "outputs": [],
   "source": [
    "for i in range(len(merged_data)):\n",
    "    for j in merged_data[\"imdbId\"]:\n",
    "        merged_data[\"Imdb_rating\"] = scrapper(j)\n",
    "    break"
   ]
  },
  {
   "cell_type": "code",
   "execution_count": 23,
   "id": "e9680adc",
   "metadata": {},
   "outputs": [],
   "source": [
    "import requests\n",
    "import numpy as np\n",
    "from bs4 import BeautifulSoup\n",
    "\n",
    "def scrapper(imdbId):\n",
    "    id = str(int(imdbId))\n",
    "    n_zeroes = 7 - len(id)\n",
    "    new_id = \"0\" * n_zeroes + id\n",
    "    URL = f\"https://www.imdb.com/title/tt{new_id}/\"\n",
    "    request_header = {\n",
    "        'Content-Type': 'text/html; charset=UTF-8',\n",
    "        'User-Agent': 'Mozilla/5.0 (Windows NT 10.0; Win64; x64; rv:109.0) Gecko/20100101 Firefox/119.0',\n",
    "        'Accept-Encoding': 'gzip, deflate, br'\n",
    "    }\n",
    "    response = requests.get(URL, headers=request_header)\n",
    "    soup = BeautifulSoup(response.text, 'html.parser')\n",
    "    imdb_rating = soup.find('span',  attrs={'class' : 'sc-bde20123-1 cMEQkK'})\n",
    "    return imdb_rating.text if imdb_rating else np.nan"
   ]
  },
  {
   "cell_type": "code",
   "execution_count": 25,
   "id": "8383e048",
   "metadata": {},
   "outputs": [],
   "source": [
    "merged_data['imdb_rating'] = merged_data['imdbId'].apply(lambda x:scrapper(x))"
   ]
  },
  {
   "cell_type": "code",
   "execution_count": 27,
   "id": "69f0d005",
   "metadata": {},
   "outputs": [
    {
     "data": {
      "text/html": [
       "<div>\n",
       "<style scoped>\n",
       "    .dataframe tbody tr th:only-of-type {\n",
       "        vertical-align: middle;\n",
       "    }\n",
       "\n",
       "    .dataframe tbody tr th {\n",
       "        vertical-align: top;\n",
       "    }\n",
       "\n",
       "    .dataframe thead th {\n",
       "        text-align: right;\n",
       "    }\n",
       "</style>\n",
       "<table border=\"1\" class=\"dataframe\">\n",
       "  <thead>\n",
       "    <tr style=\"text-align: right;\">\n",
       "      <th></th>\n",
       "      <th>movieId</th>\n",
       "      <th>count</th>\n",
       "      <th>mean</th>\n",
       "      <th>title</th>\n",
       "      <th>genres</th>\n",
       "      <th>imdbId</th>\n",
       "      <th>tmdbId</th>\n",
       "      <th>imdb_rating</th>\n",
       "    </tr>\n",
       "  </thead>\n",
       "  <tbody>\n",
       "    <tr>\n",
       "      <th>53</th>\n",
       "      <td>318</td>\n",
       "      <td>317</td>\n",
       "      <td>4.429022</td>\n",
       "      <td>Shawshank Redemption, The (1994)</td>\n",
       "      <td>Crime|Drama</td>\n",
       "      <td>111161</td>\n",
       "      <td>278.0</td>\n",
       "      <td>9.3</td>\n",
       "    </tr>\n",
       "    <tr>\n",
       "      <th>117</th>\n",
       "      <td>858</td>\n",
       "      <td>192</td>\n",
       "      <td>4.289062</td>\n",
       "      <td>Godfather, The (1972)</td>\n",
       "      <td>Crime|Drama</td>\n",
       "      <td>68646</td>\n",
       "      <td>238.0</td>\n",
       "      <td>9.2</td>\n",
       "    </tr>\n",
       "    <tr>\n",
       "      <th>146</th>\n",
       "      <td>1203</td>\n",
       "      <td>57</td>\n",
       "      <td>4.149123</td>\n",
       "      <td>12 Angry Men (1957)</td>\n",
       "      <td>Drama</td>\n",
       "      <td>50083</td>\n",
       "      <td>389.0</td>\n",
       "      <td>9.0</td>\n",
       "    </tr>\n",
       "    <tr>\n",
       "      <th>364</th>\n",
       "      <td>7153</td>\n",
       "      <td>185</td>\n",
       "      <td>4.118919</td>\n",
       "      <td>Lord of the Rings: The Return of the King, The...</td>\n",
       "      <td>Action|Adventure|Drama|Fantasy</td>\n",
       "      <td>167260</td>\n",
       "      <td>122.0</td>\n",
       "      <td>9.0</td>\n",
       "    </tr>\n",
       "    <tr>\n",
       "      <th>156</th>\n",
       "      <td>1221</td>\n",
       "      <td>129</td>\n",
       "      <td>4.259690</td>\n",
       "      <td>Godfather: Part II, The (1974)</td>\n",
       "      <td>Crime|Drama</td>\n",
       "      <td>71562</td>\n",
       "      <td>240.0</td>\n",
       "      <td>9.0</td>\n",
       "    </tr>\n",
       "    <tr>\n",
       "      <th>...</th>\n",
       "      <td>...</td>\n",
       "      <td>...</td>\n",
       "      <td>...</td>\n",
       "      <td>...</td>\n",
       "      <td>...</td>\n",
       "      <td>...</td>\n",
       "      <td>...</td>\n",
       "      <td>...</td>\n",
       "    </tr>\n",
       "    <tr>\n",
       "      <th>70</th>\n",
       "      <td>420</td>\n",
       "      <td>59</td>\n",
       "      <td>2.720339</td>\n",
       "      <td>Beverly Hills Cop III (1994)</td>\n",
       "      <td>Action|Comedy|Crime|Thriller</td>\n",
       "      <td>109254</td>\n",
       "      <td>306.0</td>\n",
       "      <td>5.5</td>\n",
       "    </tr>\n",
       "    <tr>\n",
       "      <th>28</th>\n",
       "      <td>153</td>\n",
       "      <td>137</td>\n",
       "      <td>2.916058</td>\n",
       "      <td>Batman Forever (1995)</td>\n",
       "      <td>Action|Adventure|Comedy|Crime</td>\n",
       "      <td>112462</td>\n",
       "      <td>414.0</td>\n",
       "      <td>5.4</td>\n",
       "    </tr>\n",
       "    <tr>\n",
       "      <th>73</th>\n",
       "      <td>435</td>\n",
       "      <td>63</td>\n",
       "      <td>2.420635</td>\n",
       "      <td>Coneheads (1993)</td>\n",
       "      <td>Comedy|Sci-Fi</td>\n",
       "      <td>106598</td>\n",
       "      <td>9612.0</td>\n",
       "      <td>5.4</td>\n",
       "    </tr>\n",
       "    <tr>\n",
       "      <th>30</th>\n",
       "      <td>160</td>\n",
       "      <td>57</td>\n",
       "      <td>2.877193</td>\n",
       "      <td>Congo (1995)</td>\n",
       "      <td>Action|Adventure|Mystery|Sci-Fi</td>\n",
       "      <td>112715</td>\n",
       "      <td>10329.0</td>\n",
       "      <td>5.3</td>\n",
       "    </tr>\n",
       "    <tr>\n",
       "      <th>260</th>\n",
       "      <td>2701</td>\n",
       "      <td>53</td>\n",
       "      <td>2.207547</td>\n",
       "      <td>Wild Wild West (1999)</td>\n",
       "      <td>Action|Comedy|Sci-Fi|Western</td>\n",
       "      <td>120891</td>\n",
       "      <td>8487.0</td>\n",
       "      <td>4.9</td>\n",
       "    </tr>\n",
       "  </tbody>\n",
       "</table>\n",
       "<p>436 rows × 8 columns</p>\n",
       "</div>"
      ],
      "text/plain": [
       "     movieId  count      mean  \\\n",
       "53       318    317  4.429022   \n",
       "117      858    192  4.289062   \n",
       "146     1203     57  4.149123   \n",
       "364     7153    185  4.118919   \n",
       "156     1221    129  4.259690   \n",
       "..       ...    ...       ...   \n",
       "70       420     59  2.720339   \n",
       "28       153    137  2.916058   \n",
       "73       435     63  2.420635   \n",
       "30       160     57  2.877193   \n",
       "260     2701     53  2.207547   \n",
       "\n",
       "                                                 title  \\\n",
       "53                    Shawshank Redemption, The (1994)   \n",
       "117                              Godfather, The (1972)   \n",
       "146                                12 Angry Men (1957)   \n",
       "364  Lord of the Rings: The Return of the King, The...   \n",
       "156                     Godfather: Part II, The (1974)   \n",
       "..                                                 ...   \n",
       "70                        Beverly Hills Cop III (1994)   \n",
       "28                               Batman Forever (1995)   \n",
       "73                                    Coneheads (1993)   \n",
       "30                                        Congo (1995)   \n",
       "260                              Wild Wild West (1999)   \n",
       "\n",
       "                              genres  imdbId   tmdbId imdb_rating  \n",
       "53                       Crime|Drama  111161    278.0         9.3  \n",
       "117                      Crime|Drama   68646    238.0         9.2  \n",
       "146                            Drama   50083    389.0         9.0  \n",
       "364   Action|Adventure|Drama|Fantasy  167260    122.0         9.0  \n",
       "156                      Crime|Drama   71562    240.0         9.0  \n",
       "..                               ...     ...      ...         ...  \n",
       "70      Action|Comedy|Crime|Thriller  109254    306.0         5.5  \n",
       "28     Action|Adventure|Comedy|Crime  112462    414.0         5.4  \n",
       "73                     Comedy|Sci-Fi  106598   9612.0         5.4  \n",
       "30   Action|Adventure|Mystery|Sci-Fi  112715  10329.0         5.3  \n",
       "260     Action|Comedy|Sci-Fi|Western  120891   8487.0         4.9  \n",
       "\n",
       "[436 rows x 8 columns]"
      ]
     },
     "execution_count": 27,
     "metadata": {},
     "output_type": "execute_result"
    }
   ],
   "source": [
    "merged_data.sort_values(by = \"imdb_rating\",ascending=False)"
   ]
  },
  {
   "cell_type": "code",
   "execution_count": 28,
   "id": "10e2ff28",
   "metadata": {},
   "outputs": [
    {
     "ename": "KeyError",
     "evalue": "'ratings'",
     "output_type": "error",
     "traceback": [
      "\u001b[1;31m---------------------------------------------------------------------------\u001b[0m",
      "\u001b[1;31mKeyError\u001b[0m                                  Traceback (most recent call last)",
      "\u001b[1;32m~\\AppData\\Local\\Temp\\ipykernel_22776\\3082321523.py\u001b[0m in \u001b[0;36m?\u001b[1;34m()\u001b[0m\n\u001b[1;32m----> 1\u001b[1;33m \u001b[0mmerged_data\u001b[0m\u001b[1;33m[\u001b[0m\u001b[0mmerged_data\u001b[0m\u001b[1;33m[\u001b[0m\u001b[1;34m\"genres\"\u001b[0m\u001b[1;33m]\u001b[0m\u001b[1;33m.\u001b[0m\u001b[0mstr\u001b[0m\u001b[1;33m.\u001b[0m\u001b[0mcontains\u001b[0m\u001b[1;33m(\u001b[0m\u001b[1;34m\"Sci-Fi\"\u001b[0m\u001b[1;33m)\u001b[0m\u001b[1;33m]\u001b[0m\u001b[1;33m.\u001b[0m\u001b[0msort_values\u001b[0m\u001b[1;33m(\u001b[0m\u001b[0mby\u001b[0m\u001b[1;33m=\u001b[0m\u001b[1;34m\"ratings\"\u001b[0m\u001b[1;33m,\u001b[0m\u001b[0mascending\u001b[0m\u001b[1;33m=\u001b[0m\u001b[1;32mFalse\u001b[0m\u001b[1;33m)\u001b[0m\u001b[1;33m\u001b[0m\u001b[1;33m\u001b[0m\u001b[0m\n\u001b[0m",
      "\u001b[1;32m~\\Newfolder\\Lib\\site-packages\\pandas\\core\\frame.py\u001b[0m in \u001b[0;36m?\u001b[1;34m(self, by, axis, ascending, inplace, kind, na_position, ignore_index, key)\u001b[0m\n\u001b[0;32m   6754\u001b[0m         \u001b[1;32melif\u001b[0m \u001b[0mlen\u001b[0m\u001b[1;33m(\u001b[0m\u001b[0mby\u001b[0m\u001b[1;33m)\u001b[0m\u001b[1;33m:\u001b[0m\u001b[1;33m\u001b[0m\u001b[1;33m\u001b[0m\u001b[0m\n\u001b[0;32m   6755\u001b[0m             \u001b[1;31m# len(by) == 1\u001b[0m\u001b[1;33m\u001b[0m\u001b[1;33m\u001b[0m\u001b[0m\n\u001b[0;32m   6756\u001b[0m \u001b[1;33m\u001b[0m\u001b[0m\n\u001b[0;32m   6757\u001b[0m             \u001b[0mby\u001b[0m \u001b[1;33m=\u001b[0m \u001b[0mby\u001b[0m\u001b[1;33m[\u001b[0m\u001b[1;36m0\u001b[0m\u001b[1;33m]\u001b[0m\u001b[1;33m\u001b[0m\u001b[1;33m\u001b[0m\u001b[0m\n\u001b[1;32m-> 6758\u001b[1;33m             \u001b[0mk\u001b[0m \u001b[1;33m=\u001b[0m \u001b[0mself\u001b[0m\u001b[1;33m.\u001b[0m\u001b[0m_get_label_or_level_values\u001b[0m\u001b[1;33m(\u001b[0m\u001b[0mby\u001b[0m\u001b[1;33m,\u001b[0m \u001b[0maxis\u001b[0m\u001b[1;33m=\u001b[0m\u001b[0maxis\u001b[0m\u001b[1;33m)\u001b[0m\u001b[1;33m\u001b[0m\u001b[1;33m\u001b[0m\u001b[0m\n\u001b[0m\u001b[0;32m   6759\u001b[0m \u001b[1;33m\u001b[0m\u001b[0m\n\u001b[0;32m   6760\u001b[0m             \u001b[1;31m# need to rewrap column in Series to apply key function\u001b[0m\u001b[1;33m\u001b[0m\u001b[1;33m\u001b[0m\u001b[0m\n\u001b[0;32m   6761\u001b[0m             \u001b[1;32mif\u001b[0m \u001b[0mkey\u001b[0m \u001b[1;32mis\u001b[0m \u001b[1;32mnot\u001b[0m \u001b[1;32mNone\u001b[0m\u001b[1;33m:\u001b[0m\u001b[1;33m\u001b[0m\u001b[1;33m\u001b[0m\u001b[0m\n",
      "\u001b[1;32m~\\Newfolder\\Lib\\site-packages\\pandas\\core\\generic.py\u001b[0m in \u001b[0;36m?\u001b[1;34m(self, key, axis)\u001b[0m\n\u001b[0;32m   1774\u001b[0m             \u001b[0mvalues\u001b[0m \u001b[1;33m=\u001b[0m \u001b[0mself\u001b[0m\u001b[1;33m.\u001b[0m\u001b[0mxs\u001b[0m\u001b[1;33m(\u001b[0m\u001b[0mkey\u001b[0m\u001b[1;33m,\u001b[0m \u001b[0maxis\u001b[0m\u001b[1;33m=\u001b[0m\u001b[0mother_axes\u001b[0m\u001b[1;33m[\u001b[0m\u001b[1;36m0\u001b[0m\u001b[1;33m]\u001b[0m\u001b[1;33m)\u001b[0m\u001b[1;33m.\u001b[0m\u001b[0m_values\u001b[0m\u001b[1;33m\u001b[0m\u001b[1;33m\u001b[0m\u001b[0m\n\u001b[0;32m   1775\u001b[0m         \u001b[1;32melif\u001b[0m \u001b[0mself\u001b[0m\u001b[1;33m.\u001b[0m\u001b[0m_is_level_reference\u001b[0m\u001b[1;33m(\u001b[0m\u001b[0mkey\u001b[0m\u001b[1;33m,\u001b[0m \u001b[0maxis\u001b[0m\u001b[1;33m=\u001b[0m\u001b[0maxis\u001b[0m\u001b[1;33m)\u001b[0m\u001b[1;33m:\u001b[0m\u001b[1;33m\u001b[0m\u001b[1;33m\u001b[0m\u001b[0m\n\u001b[0;32m   1776\u001b[0m             \u001b[0mvalues\u001b[0m \u001b[1;33m=\u001b[0m \u001b[0mself\u001b[0m\u001b[1;33m.\u001b[0m\u001b[0maxes\u001b[0m\u001b[1;33m[\u001b[0m\u001b[0maxis\u001b[0m\u001b[1;33m]\u001b[0m\u001b[1;33m.\u001b[0m\u001b[0mget_level_values\u001b[0m\u001b[1;33m(\u001b[0m\u001b[0mkey\u001b[0m\u001b[1;33m)\u001b[0m\u001b[1;33m.\u001b[0m\u001b[0m_values\u001b[0m\u001b[1;33m\u001b[0m\u001b[1;33m\u001b[0m\u001b[0m\n\u001b[0;32m   1777\u001b[0m         \u001b[1;32melse\u001b[0m\u001b[1;33m:\u001b[0m\u001b[1;33m\u001b[0m\u001b[1;33m\u001b[0m\u001b[0m\n\u001b[1;32m-> 1778\u001b[1;33m             \u001b[1;32mraise\u001b[0m \u001b[0mKeyError\u001b[0m\u001b[1;33m(\u001b[0m\u001b[0mkey\u001b[0m\u001b[1;33m)\u001b[0m\u001b[1;33m\u001b[0m\u001b[1;33m\u001b[0m\u001b[0m\n\u001b[0m\u001b[0;32m   1779\u001b[0m \u001b[1;33m\u001b[0m\u001b[0m\n\u001b[0;32m   1780\u001b[0m         \u001b[1;31m# Check for duplicates\u001b[0m\u001b[1;33m\u001b[0m\u001b[1;33m\u001b[0m\u001b[0m\n\u001b[0;32m   1781\u001b[0m         \u001b[1;32mif\u001b[0m \u001b[0mvalues\u001b[0m\u001b[1;33m.\u001b[0m\u001b[0mndim\u001b[0m \u001b[1;33m>\u001b[0m \u001b[1;36m1\u001b[0m\u001b[1;33m:\u001b[0m\u001b[1;33m\u001b[0m\u001b[1;33m\u001b[0m\u001b[0m\n",
      "\u001b[1;31mKeyError\u001b[0m: 'ratings'"
     ]
    }
   ],
   "source": [
    "merged_data[merged_data[\"genres\"].str.contains(\"Sci-Fi\")].sort_values(by=\"\",ascending=False)"
   ]
  },
  {
   "cell_type": "code",
   "execution_count": null,
   "id": "f33af348",
   "metadata": {},
   "outputs": [],
   "source": []
  }
 ],
 "metadata": {
  "kernelspec": {
   "display_name": "Python 3 (ipykernel)",
   "language": "python",
   "name": "python3"
  },
  "language_info": {
   "codemirror_mode": {
    "name": "ipython",
    "version": 3
   },
   "file_extension": ".py",
   "mimetype": "text/x-python",
   "name": "python",
   "nbconvert_exporter": "python",
   "pygments_lexer": "ipython3",
   "version": "3.11.5"
  }
 },
 "nbformat": 4,
 "nbformat_minor": 5
}
